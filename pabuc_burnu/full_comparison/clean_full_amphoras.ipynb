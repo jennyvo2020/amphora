{
 "cells": [
  {
   "cell_type": "markdown",
   "metadata": {},
   "source": [
    "# Objective\n",
    "\n",
    "Remove outliers from Pabuc Burnu amphora point clouds.\n",
    "\n",
    "# Dataset\n",
    "\n",
    "Reference:\n",
    "- PB_L0082\n",
    "\n",
    "Compared:\n",
    "- PB_2001-5-3\n",
    "- PB_L0053\n",
    "- PB_L0054\n",
    "- PB_L0084\n",
    "- PB_L0102\n",
    "- PB_L0177\n",
    "- PB_L0258\n",
    "- PB_L0343\n",
    "- PB_L0442\n",
    "\n",
    "Omitted due to missing chunks:\n",
    "- PB_L0083 - missing chunk of neck\n",
    "- PB_L0421 - missing chunk of neck\n",
    "- PB_L0895 - missing chunk of upper body"
   ]
  },
  {
   "cell_type": "code",
   "execution_count": 2,
   "metadata": {},
   "outputs": [
    {
     "name": "stdout",
     "output_type": "stream",
     "text": [
      "The autoreload extension is already loaded. To reload it, use:\n",
      "  %reload_ext autoreload\n"
     ]
    }
   ],
   "source": [
    "import util\n",
    "import pandas as pd\n",
    "%load_ext autoreload\n",
    "%autoreload 2"
   ]
  },
  {
   "cell_type": "code",
   "execution_count": 3,
   "metadata": {},
   "outputs": [],
   "source": [
    "df = pd.read_csv('max_diam.csv')"
   ]
  },
  {
   "cell_type": "code",
   "execution_count": 7,
   "metadata": {},
   "outputs": [
    {
     "data": {
      "text/html": [
       "<div>\n",
       "<style scoped>\n",
       "    .dataframe tbody tr th:only-of-type {\n",
       "        vertical-align: middle;\n",
       "    }\n",
       "\n",
       "    .dataframe tbody tr th {\n",
       "        vertical-align: top;\n",
       "    }\n",
       "\n",
       "    .dataframe thead th {\n",
       "        text-align: right;\n",
       "    }\n",
       "</style>\n",
       "<table border=\"1\" class=\"dataframe\">\n",
       "  <thead>\n",
       "    <tr style=\"text-align: right;\">\n",
       "      <th></th>\n",
       "      <th>name</th>\n",
       "      <th>max_diam</th>\n",
       "    </tr>\n",
       "  </thead>\n",
       "  <tbody>\n",
       "    <tr>\n",
       "      <th>0</th>\n",
       "      <td>PB_2001-5-3_obj.obj</td>\n",
       "      <td>327.2</td>\n",
       "    </tr>\n",
       "    <tr>\n",
       "      <th>1</th>\n",
       "      <td>PB_L0053_obj.obj</td>\n",
       "      <td>326.3</td>\n",
       "    </tr>\n",
       "    <tr>\n",
       "      <th>2</th>\n",
       "      <td>PB_L0054_obj.obj</td>\n",
       "      <td>328.2</td>\n",
       "    </tr>\n",
       "    <tr>\n",
       "      <th>3</th>\n",
       "      <td>PB_L0084_obj.obj</td>\n",
       "      <td>341.5</td>\n",
       "    </tr>\n",
       "    <tr>\n",
       "      <th>4</th>\n",
       "      <td>PB_L0102_obj.obj</td>\n",
       "      <td>301.1</td>\n",
       "    </tr>\n",
       "    <tr>\n",
       "      <th>5</th>\n",
       "      <td>PB_L0177_obj.obj</td>\n",
       "      <td>315.1</td>\n",
       "    </tr>\n",
       "    <tr>\n",
       "      <th>6</th>\n",
       "      <td>PB_L0258_obj.obj</td>\n",
       "      <td>326.6</td>\n",
       "    </tr>\n",
       "    <tr>\n",
       "      <th>7</th>\n",
       "      <td>PB_L0343_obj.obj</td>\n",
       "      <td>309.5</td>\n",
       "    </tr>\n",
       "    <tr>\n",
       "      <th>8</th>\n",
       "      <td>PB_L0442_obj.obj</td>\n",
       "      <td>316.2</td>\n",
       "    </tr>\n",
       "    <tr>\n",
       "      <th>9</th>\n",
       "      <td>PB_L0082_obj.obj</td>\n",
       "      <td>326.4</td>\n",
       "    </tr>\n",
       "  </tbody>\n",
       "</table>\n",
       "</div>"
      ],
      "text/plain": [
       "                  name  max_diam\n",
       "0  PB_2001-5-3_obj.obj     327.2\n",
       "1     PB_L0053_obj.obj     326.3\n",
       "2     PB_L0054_obj.obj     328.2\n",
       "3     PB_L0084_obj.obj     341.5\n",
       "4     PB_L0102_obj.obj     301.1\n",
       "5     PB_L0177_obj.obj     315.1\n",
       "6     PB_L0258_obj.obj     326.6\n",
       "7     PB_L0343_obj.obj     309.5\n",
       "8     PB_L0442_obj.obj     316.2\n",
       "9     PB_L0082_obj.obj     326.4"
      ]
     },
     "execution_count": 7,
     "metadata": {},
     "output_type": "execute_result"
    }
   ],
   "source": [
    "df"
   ]
  },
  {
   "cell_type": "code",
   "execution_count": 14,
   "metadata": {},
   "outputs": [],
   "source": [
    "save_nonoutliers = True"
   ]
  },
  {
   "cell_type": "markdown",
   "metadata": {},
   "source": [
    "## Clean compared and reference"
   ]
  },
  {
   "cell_type": "code",
   "execution_count": 34,
   "metadata": {},
   "outputs": [
    {
     "name": "stdout",
     "output_type": "stream",
     "text": [
      "Now cleaning amphora PB_2001-5-3_obj.obj \n",
      "Now cleaning amphora PB_L0053_obj.obj \n",
      "Now cleaning amphora PB_L0054_obj.obj \n",
      "Now cleaning amphora PB_L0084_obj.obj \n",
      "Now cleaning amphora PB_L0102_obj.obj \n",
      "Now cleaning amphora PB_L0177_obj.obj \n",
      "Now cleaning amphora PB_L0258_obj.obj \n",
      "Now cleaning amphora PB_L0343_obj.obj \n",
      "Now cleaning amphora PB_L0442_obj.obj \n",
      "Now cleaning amphora PB_L0082_obj.obj \n"
     ]
    }
   ],
   "source": [
    "for model in df['name']:\n",
    "    print('Now cleaning amphora %s ' % model)\n",
    "    model_path = './mapped_to_L0082/%s' % model\n",
    "#     print(model_path)\n",
    "    model_coords = util.obj_to_np(model_path)\n",
    "    model_csv_path = './mapped_to_L0082/%s.csv' % model[:-4]\n",
    "#     print(model_csv_path)\n",
    "    model_non_outliers = util.get_nonoutliers(model_coords, save_nonoutliers, model_csv_path)"
   ]
  },
  {
   "cell_type": "markdown",
   "metadata": {},
   "source": [
    "## Clean largest and smallest"
   ]
  },
  {
   "cell_type": "code",
   "execution_count": 40,
   "metadata": {},
   "outputs": [
    {
     "name": "stdout",
     "output_type": "stream",
     "text": [
      "Now cleaning amphora PB_L0102_obj.obj \n",
      "Now cleaning amphora PB_L0084_obj.obj \n"
     ]
    }
   ],
   "source": [
    "smallest = 'PB_L0102_obj.obj'\n",
    "largest = 'PB_L0084_obj.obj'\n",
    "\n",
    "for model in [smallest, largest]:\n",
    "    print('Now cleaning amphora %s ' % model)\n",
    "    model_path = './largest_to_smallest/%s' % model\n",
    "    model_coords = util.obj_to_np(model_path)\n",
    "    model_csv_path = './largest_to_smallest/%s.csv' % model[:-4]\n",
    "    model_non_outliers = util.get_nonoutliers(model_coords, save_nonoutliers, model_csv_path)"
   ]
  }
 ],
 "metadata": {
  "kernelspec": {
   "display_name": "Python 3",
   "language": "python",
   "name": "python3"
  },
  "language_info": {
   "codemirror_mode": {
    "name": "ipython",
    "version": 3
   },
   "file_extension": ".py",
   "mimetype": "text/x-python",
   "name": "python",
   "nbconvert_exporter": "python",
   "pygments_lexer": "ipython3",
   "version": "3.8.5"
  }
 },
 "nbformat": 4,
 "nbformat_minor": 4
}
