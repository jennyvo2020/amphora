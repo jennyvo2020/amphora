{
 "cells": [
  {
   "cell_type": "markdown",
   "metadata": {},
   "source": [
    "## Calculate body height from point clouds\n",
    "\n",
    "The code in this notebook intakes coordinates of two opposing points at the bottom of the neck and the coordinates of the bottom of the amphora and calculates amphora body height.\n",
    "\n",
    "Amphora used in this example: 83-2 "
   ]
  },
  {
   "cell_type": "code",
   "execution_count": 1,
   "metadata": {},
   "outputs": [],
   "source": [
    "import math\n",
    "import numpy as np"
   ]
  },
  {
   "cell_type": "markdown",
   "metadata": {},
   "source": [
    "Identify (x, y, z) coordinates for these features:\n",
    "- `neck_coord_1` and `neck_cord_2` on opposite sides of the bottom of the neck \n",
    "- `base_coord` at the bottom of the amphora\n",
    "\n",
    "<img src=\"body_height_diagram.png\">\n",
    "\n",
    "Shown here are three separate attempts at identifying the points at the bottom of the neck."
   ]
  },
  {
   "cell_type": "code",
   "execution_count": 10,
   "metadata": {},
   "outputs": [],
   "source": [
    "# example attempt 1 for 83-2 yields body height = 38.7 mm\n",
    "neck_coord_1 = (-24, 92, -22)\n",
    "neck_coord_2 = (56, 62, 72)\n",
    "base_coord = (-18.52, -294.52, -77.14)"
   ]
  },
  {
   "cell_type": "code",
   "execution_count": 15,
   "metadata": {},
   "outputs": [],
   "source": [
    "# example attempt 2 for 83-2 yields body height = 39.0 mm\n",
    "neck_coord_1 = (50, 61, 77)\n",
    "neck_coord_2 = (-20, 96, -12)\n",
    "base_coord = (-18.52, -294.52, -77.14)"
   ]
  },
  {
   "cell_type": "code",
   "execution_count": 16,
   "metadata": {},
   "outputs": [],
   "source": [
    "# example attempt 3 for 83-2 yields body height = 38.7 mm\n",
    "neck_coord_1 = (-30, 91, -16)\n",
    "neck_coord_2 = (38, 59, 86)\n",
    "base_coord = (-18.52, -294.52, -77.14)"
   ]
  },
  {
   "cell_type": "markdown",
   "metadata": {},
   "source": [
    "To calculate body height, run this block:"
   ]
  },
  {
   "cell_type": "code",
   "execution_count": 17,
   "metadata": {},
   "outputs": [
    {
     "name": "stdout",
     "output_type": "stream",
     "text": [
      "body height = 38.7 mm\n"
     ]
    }
   ],
   "source": [
    "neck_width = np.linalg.norm(np.array(neck_coord_1)-np.array(neck_coord_2))\n",
    "neck_radius = neck_width/2\n",
    "hypotenuse_1 = np.linalg.norm(np.array(neck_coord_1)-np.array(base_coord))\n",
    "hypotenuse_2 = np.linalg.norm(np.array(neck_coord_2)-np.array(base_coord))\n",
    "hypotenuse_avg = np.mean([hypotenuse_1, hypotenuse_2])\n",
    "body_height = math.sqrt(hypotenuse_avg**2 - neck_radius**2)\n",
    "body_height_mm = body_height/10\n",
    "print('body height = %s mm' % round(body_height_mm, 1))"
   ]
  },
  {
   "cell_type": "markdown",
   "metadata": {},
   "source": [
    "In the spreadsheet, the body height of 83-2 is recorded as 38.9 mm."
   ]
  }
 ],
 "metadata": {
  "kernelspec": {
   "display_name": "Python 3 (ipykernel)",
   "language": "python",
   "name": "python3"
  },
  "language_info": {
   "codemirror_mode": {
    "name": "ipython",
    "version": 3
   },
   "file_extension": ".py",
   "mimetype": "text/x-python",
   "name": "python",
   "nbconvert_exporter": "python",
   "pygments_lexer": "ipython3",
   "version": "3.8.13"
  }
 },
 "nbformat": 4,
 "nbformat_minor": 4
}
