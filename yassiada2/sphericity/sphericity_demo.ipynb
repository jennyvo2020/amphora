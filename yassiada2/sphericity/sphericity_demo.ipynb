{
 "cells": [
  {
   "cell_type": "markdown",
   "metadata": {},
   "source": [
    "# Objective\n",
    "\n",
    "This notebook explains and demonstrates the amphora sphericity calculation process.\n",
    "\n",
    "# Calculating Amphora Sphericity\n",
    "\n",
    "(1) Segment neck and handles away from body in CloudCompare (demonstrated here using amphora 83-2).\n",
    "\n",
    "<img src=\"demo_images/vert_83-2_0.png\" width=\"250\">\n",
    "\n",
    "(2) Calculate normals for all vertices.\n",
    "\n",
    "<img src=\"demo_images/vertices_og.png\" width=\"250\"> \n",
    "\n",
    "(3) Use Neumann-Poisson interpolation to find a mesh with the holes left by the handles filled in.\n",
    "    - If NP has filled in the neck hole, remove that material from the resultant mesh. (This region of the mesh typically balloons over the neck hole, resulting in excess volume and surface area.)\n",
    "\n",
    "<table><tr><td><img src='demo_images/birdseye_83-2.png' width=\"250\"></td><td><img src='demo_images/interp_and_og_top.png' width=\"250\"></td></tr></table>\n",
    "\n",
    "    - Inspect the resultant mesh. It should be mostly smooth and have a clear inside and outside.\n",
    "\n",
    "<table><tr><td><img src='demo_images/interpolation_birdseye.png' width=\"250\"></td><td><img src='demo_images/interpolation_front.png' width=\"250\"></td></tr></table>\n",
    "\n",
    "    - Note any aberrations. If the missing area is too large, interpolation will have failed, as it did with W1 (top) and W70 (lower row).\n",
    "    \n",
    "<img src=\"demo_images/W1_interpolated.png\" width=\"250\"> \n",
    "<table><tr><td><img src='demo_images/W70_interpolated_1.png' width=\"250\"></td><td><img src='demo_images/W70_interpolated_2.png' width=\"250\"></td><td><img src='demo_images/W70_interpolated_3.png' width=\"250\"></td><td><img src='demo_images/W70_interpolated_4.png' width=\"250\"></td></tr></table>\n",
    "    \n",
    "(4) Calculate the surface area equivalent to the neck hole using min diameter and max diameter of the neck hole.\n",
    "    - Neck holes are elliptical in shape. (Attaching the handles seems to push in on the neck.)\n",
    "    - Therefore, neck hole surface area = $π\\frac{MaxDiam}{2}\\frac{MinDiam}{2}$.\n",
    "\n",
    "<table><tr><td><img src='demo_images/hole_horiz.png' width=\"250\"></td><td><img src='demo_images/hole_vert.png' width=\"250\"></td></tr></table>\n",
    "\n",
    "(5) Use total surface area and volume to calculate sphericity = $\\frac{π^{1/3}(6*Volume)^{2/3}}{TotalSurfaceArea}$\n",
    "    - For 83-2: $\\frac{π^{1/3}(6*32833400)^{2/3}}{509195} = 0.97$\n",
    "    - (Volume units: mm<sup>3</sup>. Surface area units: mm<sup>2</sup>. Sphericity is unitless.)\n",
    "    \n",
    "### Giving a rough sense of the amount of time this process takes\n",
    "\n",
    "After several rounds in which I ironed out all the details (how to calculate normals, what parameters to use for interpolation, the best way to calculate the area of the neck hole, etc.), I went back through and did the analysis from scratch with all the jars. This time, when going through with total understanding of the protocol, the process took > 35 minutes per jar at first, but then after 10 or so jars I got the time down to about 25 minutes per jar. After this, I went back to check and double check, and rerun the mesh interpolation to ensure consistency of results (an additional 5-10 minutes each jar)."
   ]
  },
  {
   "cell_type": "code",
   "execution_count": 1,
   "metadata": {},
   "outputs": [],
   "source": [
    "import matplotlib.pyplot as plt\n",
    "from math import pi, sqrt\n",
    "from IPython.display import HTML, display\n"
   ]
  },
  {
   "cell_type": "markdown",
   "metadata": {},
   "source": [
    "# For reference\n",
    "\n",
    "Sphericity of other 3D objects."
   ]
  },
  {
   "cell_type": "markdown",
   "metadata": {},
   "source": [
    "### Sphericity of a cone with equivalent height and base diameter (of any size)\n",
    "\n",
    "<img src=\"demo_images/cone.png\" width=\"150\"> "
   ]
  },
  {
   "cell_type": "code",
   "execution_count": 10,
   "metadata": {},
   "outputs": [
    {
     "data": {
      "text/plain": [
       "0.08246163988443485"
      ]
     },
     "execution_count": 10,
     "metadata": {},
     "output_type": "execute_result"
    }
   ],
   "source": [
    "height = 1\n",
    "base_diameter = 1\n",
    "volume = pi/12\n",
    "surface_area = (1/4)*(1 + sqrt(5))*pi\n",
    "sphericity = (pi**(1/3))*((6*volume)**(2/3))/surface_area_total\n",
    "sphericity"
   ]
  },
  {
   "cell_type": "markdown",
   "metadata": {},
   "source": [
    "### Sphericity of a cube (of any size)\n",
    "\n",
    "<img src=\"demo_images/cube.png\" width=\"150\"> "
   ]
  },
  {
   "cell_type": "code",
   "execution_count": 5,
   "metadata": {},
   "outputs": [
    {
     "data": {
      "text/plain": [
       "0.8059959770082347"
      ]
     },
     "execution_count": 5,
     "metadata": {},
     "output_type": "execute_result"
    }
   ],
   "source": [
    "volume = 1\n",
    "surface_area_total = 6\n",
    "sphericity = (pi**(1/3))*((6*volume)**(2/3))/surface_area_total\n",
    "sphericity"
   ]
  },
  {
   "cell_type": "code",
   "execution_count": 6,
   "metadata": {},
   "outputs": [
    {
     "data": {
      "text/plain": [
       "0.8059959770082347"
      ]
     },
     "execution_count": 6,
     "metadata": {},
     "output_type": "execute_result"
    }
   ],
   "source": [
    "volume = 8\n",
    "surface_area_total = 24\n",
    "sphericity = (pi**(1/3))*((6*volume)**(2/3))/surface_area_total\n",
    "sphericity"
   ]
  },
  {
   "cell_type": "markdown",
   "metadata": {},
   "source": [
    "### Sphericity of a sphere (of any size)\n",
    "\n",
    "<img src=\"demo_images/sphere.png\" width=\"150\"> "
   ]
  },
  {
   "cell_type": "code",
   "execution_count": 11,
   "metadata": {},
   "outputs": [
    {
     "data": {
      "text/plain": [
       "0.9999999999999999"
      ]
     },
     "execution_count": 11,
     "metadata": {},
     "output_type": "execute_result"
    }
   ],
   "source": [
    "volume = 4*pi/3\n",
    "surface_area_total = 4*pi\n",
    "sphericity = (pi**(1/3))*((6*volume)**(2/3))/surface_area_total\n",
    "sphericity"
   ]
  },
  {
   "cell_type": "markdown",
   "metadata": {},
   "source": [
    "Output of this is `0.99...` due to infinitesimal rounding error when computed, but theoretically = `1.00`."
   ]
  }
 ],
 "metadata": {
  "kernelspec": {
   "display_name": "Python 3 (ipykernel)",
   "language": "python",
   "name": "python3"
  },
  "language_info": {
   "codemirror_mode": {
    "name": "ipython",
    "version": 3
   },
   "file_extension": ".py",
   "mimetype": "text/x-python",
   "name": "python",
   "nbconvert_exporter": "python",
   "pygments_lexer": "ipython3",
   "version": "3.8.13"
  }
 },
 "nbformat": 4,
 "nbformat_minor": 4
}
