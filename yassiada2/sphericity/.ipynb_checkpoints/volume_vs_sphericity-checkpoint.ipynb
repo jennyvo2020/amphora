{
 "cells": [
  {
   "cell_type": "markdown",
   "metadata": {},
   "source": [
    "# Objective\n",
    "\n",
    "Plot volume vs. sphericity given a fixed max diameter (i.e., a fixed surface area).\n",
    "\n",
    "Sphericity = [ π^1/3 (6*Volume)^2/3 ] / Surface Area\n",
    "\n",
    "Sphericity = [ π^1/3 (6*Volume)^2/3 ] / [4πr^2]\n",
    "\n",
    "Volume = [Sphericity * (4πr^2) / (π^1/3)]^3/2 / 6"
   ]
  },
  {
   "cell_type": "code",
   "execution_count": 14,
   "metadata": {},
   "outputs": [],
   "source": [
    "import matplotlib.pyplot as plt\n",
    "import math\n",
    "import numpy as np"
   ]
  },
  {
   "cell_type": "code",
   "execution_count": 3,
   "metadata": {},
   "outputs": [],
   "source": [
    "max_diam = 42"
   ]
  },
  {
   "cell_type": "code",
   "execution_count": 36,
   "metadata": {},
   "outputs": [],
   "source": [
    "# Input: sphericity\n",
    "# Output: volume in mL, given max_diam specified above\n",
    "def sphericity_to_volume(sphericity):\n",
    "    return (((sphericity * 4* math.pi * (max_diam/2)**2) / (math.pi**(1/3)))**(3/2))/6"
   ]
  },
  {
   "cell_type": "code",
   "execution_count": 37,
   "metadata": {},
   "outputs": [],
   "source": [
    "sphericities = [0.90, 0.91, 0.92, 0.93, 0.94, 0.95, 0.96, 0.97, 0.98, 0.99]\n",
    "volumes = [sphericity_to_volume(sphericity) for sphericity in sphericities]"
   ]
  },
  {
   "cell_type": "code",
   "execution_count": 38,
   "metadata": {},
   "outputs": [
    {
     "data": {
      "image/png": "[encoded data removed]",
      "text/plain": [
       "<Figure size 432x288 with 1 Axes>"
      ]
     },
     "metadata": {
      "needs_background": "light"
     },
     "output_type": "display_data"
    }
   ],
   "source": [
    "plt.title('Volume vs. Sphericity\\ngiven max diam = %s' % str(max_diam))\n",
    "plt.scatter(sphericities, volumes)\n",
    "plt.xlabel('sphericity')\n",
    "plt.ylabel('volume [mL]')\n",
    "plt.xticks(sphericities)\n",
    "plt.show()"
   ]
  },
  {
   "cell_type": "markdown",
   "metadata": {},
   "source": [
    "### Proportionality\n",
    "\n",
    "Volume is proportional to ($\\sqrt{sphericity}$) <sup>3</sup>.\n",
    "\n",
    "At sphericity values close to 1, this relationship looks very linear.\n",
    "\n",
    "### Comparing with the plot of y = ($\\sqrt{x}$ ) <sup>3</sup>"
   ]
  },
  {
   "cell_type": "code",
   "execution_count": 39,
   "metadata": {},
   "outputs": [
    {
     "data": {
      "image/png": "[encoded data removed]",
      "text/plain": [
       "<Figure size 432x288 with 1 Axes>"
      ]
     },
     "metadata": {
      "needs_background": "light"
     },
     "output_type": "display_data"
    }
   ],
   "source": [
    "xs = np.arange(0.9, 1, 0.01)\n",
    "ys = [x**(3/2) for x in xs]\n",
    "plt.xlabel('x')\n",
    "plt.ylabel('y')\n",
    "plt.scatter(xs, ys)\n",
    "plt.xticks(sphericities)\n",
    "plt.title('y = x^(3/2)')\n",
    "plt.show()"
   ]
  },
  {
   "cell_type": "markdown",
   "metadata": {},
   "source": [
    "Zooming out..."
   ]
  },
  {
   "cell_type": "code",
   "execution_count": 40,
   "metadata": {},
   "outputs": [
    {
     "data": {
      "image/png": "[encoded data removed]",
      "text/plain": [
       "<Figure size 432x288 with 1 Axes>"
      ]
     },
     "metadata": {
      "needs_background": "light"
     },
     "output_type": "display_data"
    }
   ],
   "source": [
    "xs = np.arange(0, 1, 0.01)\n",
    "ys = [x**(3/2) for x in xs]\n",
    "plt.scatter(xs, ys)\n",
    "plt.xlabel('x')\n",
    "plt.ylabel('y')\n",
    "plt.title('y = x^(3/2)')\n",
    "plt.show()"
   ]
  },
  {
   "cell_type": "markdown",
   "metadata": {},
   "source": [
    "Wolfram Alpha confirmation: https://www.wolframalpha.com/input/?i=y+%3D+x%5E%283%2F2%29"
   ]
  },
  {
   "cell_type": "markdown",
   "metadata": {},
   "source": [
    "### Questions and notes from Justin\n",
    "\n",
    "What is the general volume difference between a jar of this size at 0.94/0.96 and another at 0.99 (functionally 1.0)? It’s not going to fall in a linear relationship but will presumably be quite low, on the order of a few hundred ml. Knowing what this loss was for a few minor deviations from perfectly spherical would help us gauge the framework for this cost-benefit analysis, and likely realize what was lost was miniscule in comparison with what was gained practically so as to ensure quick and efficient production of jars on a mass scale.\n",
    "\n",
    "### Answers\n",
    "\n",
    "(sphericity is unitless, and volume units are in mL)"
   ]
  },
  {
   "cell_type": "code",
   "execution_count": 41,
   "metadata": {},
   "outputs": [
    {
     "data": {
      "text/plain": [
       "35353.97690672137"
      ]
     },
     "execution_count": 41,
     "metadata": {},
     "output_type": "execute_result"
    }
   ],
   "source": [
    "sphericity_to_volume(0.94)"
   ]
  },
  {
   "cell_type": "code",
   "execution_count": 42,
   "metadata": {},
   "outputs": [
    {
     "data": {
      "text/plain": [
       "36488.275897740365"
      ]
     },
     "execution_count": 42,
     "metadata": {},
     "output_type": "execute_result"
    }
   ],
   "source": [
    "sphericity_to_volume(0.96)"
   ]
  },
  {
   "cell_type": "code",
   "execution_count": 43,
   "metadata": {},
   "outputs": [
    {
     "data": {
      "text/plain": [
       "38211.95744336894"
      ]
     },
     "execution_count": 43,
     "metadata": {},
     "output_type": "execute_result"
    }
   ],
   "source": [
    "sphericity_to_volume(0.99)"
   ]
  },
  {
   "cell_type": "code",
   "execution_count": 44,
   "metadata": {},
   "outputs": [
    {
     "data": {
      "text/plain": [
       "1723.6815456285767"
      ]
     },
     "execution_count": 44,
     "metadata": {},
     "output_type": "execute_result"
    }
   ],
   "source": [
    "sphericity_to_volume(0.99) - sphericity_to_volume(0.96)"
   ]
  },
  {
   "cell_type": "markdown",
   "metadata": {},
   "source": [
    "Given a max diameter of 42 cm, decreasing sphericity from 0.99 to 0.96 results in a loss of 1.7 liters."
   ]
  },
  {
   "cell_type": "code",
   "execution_count": 45,
   "metadata": {},
   "outputs": [
    {
     "data": {
      "text/plain": [
       "2857.9805366475703"
      ]
     },
     "execution_count": 45,
     "metadata": {},
     "output_type": "execute_result"
    }
   ],
   "source": [
    "sphericity_to_volume(0.99) - sphericity_to_volume(0.94)"
   ]
  },
  {
   "cell_type": "markdown",
   "metadata": {},
   "source": [
    "Given a max diameter of 42 cm, decreasing sphericity from 0.99 to 0.94 results in a loss of 2.9 liters."
   ]
  }
 ],
 "metadata": {
  "kernelspec": {
   "display_name": "Python 3 (ipykernel)",
   "language": "python",
   "name": "python3"
  },
  "language_info": {
   "codemirror_mode": {
    "name": "ipython",
    "version": 3
   },
   "file_extension": ".py",
   "mimetype": "text/x-python",
   "name": "python",
   "nbconvert_exporter": "python",
   "pygments_lexer": "ipython3",
   "version": "3.8.13"
  }
 },
 "nbformat": 4,
 "nbformat_minor": 4
}
